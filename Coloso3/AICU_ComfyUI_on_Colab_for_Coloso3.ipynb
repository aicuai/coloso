{
  "cells": [
    {
      "cell_type": "markdown",
      "metadata": {
        "id": "view-in-github"
      },
      "source": [
        "<a href=\"https://colab.research.google.com/github/aicuai/coloso/blob/main/Coloso3/AICU_ComfyUI_on_Colab_for_Coloso3.ipynb\" target=\"_parent\"><img src=\"https://colab.research.google.com/assets/colab-badge.svg\" alt=\"Open In Colab\"/></a>"
      ]
    },
    {
      "cell_type": "markdown",
      "metadata": {
        "id": "aaaaaaaaaa"
      },
      "source": [
        "# ComfyUIのインストール https://j.aicu.ai/Comfy\n",
        "\n",
        "この Google Colab向け notebook は ComfyUIを初心者向けに簡単に起動できるように解説・設定しています。\n",
        "\n",
        "原作は [ComfyUI-Manager](https://github.com/ltdrdata/ComfyUI-Manager) による [こちら](https://github.com/ltdrdata/ComfyUI-Manager/blob/main/notebooks/comfyui_colab_with_manager.ipynb)\n",
        "\n",
        "\n",
        "AICU mediaによる解説記事は[ここ](https://note.com/aicu/n/n876fab5a0736)から読めます\n",
        "\n",
        "■ ここからはじめる「ComfyUIマスターガイド」\n",
        "https://note.com/aicu/n/n876fab5a0736\n"
      ]
    },
    {
      "cell_type": "code",
      "execution_count": null,
      "metadata": {
        "id": "bbbbbbbbbb"
      },
      "outputs": [],
      "source": [
        "# #@title Environment Setup\n",
        "\n",
        "from pathlib import Path\n",
        "\n",
        "OPTIONS = {}\n",
        "\n",
        "USE_GOOGLE_DRIVE = True  #@param {type:\"boolean\"}\n",
        "UPDATE_COMFY_UI = True  #@param {type:\"boolean\"}\n",
        "USE_COMFYUI_MANAGER = True  #@param {type:\"boolean\"}\n",
        "USE_CUSTOM_NODES_FOR_COLOSO = True #@param {type:\"boolean\"}\n",
        "INSTALL_CUSTOM_NODES_DEPENDENCIES = True  #@param {type:\"boolean\"}\n",
        "OPTIONS['USE_GOOGLE_DRIVE'] = USE_GOOGLE_DRIVE\n",
        "OPTIONS['UPDATE_COMFY_UI'] = UPDATE_COMFY_UI\n",
        "OPTIONS['USE_COMFYUI_MANAGER'] = USE_COMFYUI_MANAGER\n",
        "OPTIONS['INSTALL_CUSTOM_NODES_DEPENDENCIES'] = INSTALL_CUSTOM_NODES_DEPENDENCIES\n",
        "\n",
        "current_dir = !pwd\n",
        "WORKSPACE = f\"{current_dir[0]}/ComfyUI\"\n",
        "\n",
        "if OPTIONS['USE_GOOGLE_DRIVE']:\n",
        "    !echo \"Mounting Google Drive...\"\n",
        "    %cd /\n",
        "\n",
        "    from google.colab import drive\n",
        "    drive.mount('/content/drive')\n",
        "\n",
        "    WORKSPACE = \"/content/drive/MyDrive/ComfyUI\"\n",
        "    %cd /content/drive/MyDrive\n",
        "\n",
        "![ ! -d $WORKSPACE ] && echo -= Initial setup ComfyUI =- && git clone https://github.com/comfyanonymous/ComfyUI\n",
        "%cd $WORKSPACE\n",
        "\n",
        "if OPTIONS['UPDATE_COMFY_UI']:\n",
        "  !echo -= Updating ComfyUI =-\n",
        "\n",
        "  # Correction of the issue of permissions being deleted on Google Drive.\n",
        "  ![ -f \".ci/nightly/update_windows/update_comfyui_and_python_dependencies.bat\" ] && chmod 755 .ci/nightly/update_windows/update_comfyui_and_python_dependencies.bat\n",
        "  ![ -f \".ci/nightly/windows_base_files/run_nvidia_gpu.bat\" ] && chmod 755 .ci/nightly/windows_base_files/run_nvidia_gpu.bat\n",
        "  ![ -f \".ci/update_windows/update_comfyui_and_python_dependencies.bat\" ] && chmod 755 .ci/update_windows/update_comfyui_and_python_dependencies.bat\n",
        "  ![ -f \".ci/update_windows_cu118/update_comfyui_and_python_dependencies.bat\" ] && chmod 755 .ci/update_windows_cu118/update_comfyui_and_python_dependencies.bat\n",
        "  ![ -f \".ci/update_windows/update.py\" ] && chmod 755 .ci/update_windows/update.py\n",
        "  ![ -f \".ci/update_windows/update_comfyui.bat\" ] && chmod 755 .ci/update_windows/update_comfyui.bat\n",
        "  ![ -f \".ci/update_windows/README_VERY_IMPORTANT.txt\" ] && chmod 755 .ci/update_windows/README_VERY_IMPORTANT.txt\n",
        "  ![ -f \".ci/update_windows/run_cpu.bat\" ] && chmod 755 .ci/update_windows/run_cpu.bat\n",
        "  ![ -f \".ci/update_windows/run_nvidia_gpu.bat\" ] && chmod 755 .ci/update_windows/run_nvidia_gpu.bat\n",
        "\n",
        "  !git pull\n",
        "\n",
        "!echo -= Install dependencies =-\n",
        "!pip3 install accelerate\n",
        "!pip3 install einops transformers>=4.25.1 safetensors>=0.3.0 aiohttp pyyaml Pillow scipy tqdm psutil\n",
        "!pip3 install torch torchvision torchaudio --index-url https://download.pytorch.org/whl/cu121\n",
        "!pip3 install torchsde\n",
        "!pip3 install kornia>=0.7.1 spandrel\n",
        "\n",
        "if OPTIONS['USE_COMFYUI_MANAGER']:\n",
        "  %cd custom_nodes\n",
        "\n",
        "  # Correction of the issue of permissions being deleted on Google Drive.\n",
        "  ![ -f \"ComfyUI-Manager/check.sh\" ] && chmod 755 ComfyUI-Manager/check.sh\n",
        "  ![ -f \"ComfyUI-Manager/scan.sh\" ] && chmod 755 ComfyUI-Manager/scan.sh\n",
        "  ![ -f \"ComfyUI-Manager/node_db/dev/scan.sh\" ] && chmod 755 ComfyUI-Manager/node_db/dev/scan.sh\n",
        "  ![ -f \"ComfyUI-Manager/scripts/install-comfyui-venv-linux.sh\" ] && chmod 755 ComfyUI-Manager/scripts/install-comfyui-venv-linux.sh\n",
        "  ![ -f \"ComfyUI-Manager/scripts/install-comfyui-venv-win.bat\" ] && chmod 755 ComfyUI-Manager/scripts/install-comfyui-venv-win.bat\n",
        "\n",
        "  ![ ! -d ComfyUI-Manager ] && echo -= Initial setup ComfyUI-Manager =- && git clone https://github.com/ltdrdata/ComfyUI-Manager\n",
        "  %cd ComfyUI-Manager\n",
        "  !git pull\n",
        "\n",
        "  %cd $WORKSPACE\n",
        "\n",
        "if OPTIONS['USE_CUSTOM_NODES_FOR_COLOSO']:\n",
        "  %cd custom_nodes\n",
        "\n",
        "  ## For ControlNet\n",
        "  !git clone https://github.com/Fannovel16/comfyui_controlnet_aux.git\n",
        "\n",
        "  ## For Inpainting\n",
        "  !git clone https://github.com/Acly/comfyui-inpaint-nodes.git\n",
        "\n",
        "  ## For Segmentation\n",
        "  !git clone https://github.com/kijai/ComfyUI-KJNodes.git\n",
        "  !git clone https://github.com/kijai/ComfyUI-Florence2.git\n",
        "  !git clone https://github.com/kijai/ComfyUI-segment-anything-2.git\n",
        "  !git clone https://github.com/un-seen/comfyui-tensorops.git\n",
        "\n",
        "  %cd $WORKSPACE\n",
        "\n",
        "%cd $WORKSPACE\n",
        "\n",
        "if OPTIONS['INSTALL_CUSTOM_NODES_DEPENDENCIES']:\n",
        "  !echo -= Install custom nodes dependencies =-\n",
        "  !pip install GitPython\n",
        "  !python custom_nodes/ComfyUI-Manager/cm-cli.py restore-dependencies\n"
      ]
    },
    {
      "cell_type": "markdown",
      "metadata": {
        "id": "cccccccccc"
      },
      "source": [
        "### 各種モデルのダウンロード"
      ]
    },
    {
      "cell_type": "code",
      "execution_count": null,
      "metadata": {
        "id": "dddddddddd"
      },
      "outputs": [],
      "source": [
        "# Checkpoints\n",
        "\n",
        "## SDXL\n",
        "!wget -c https://huggingface.co/stabilityai/stable-diffusion-xl-base-1.0/resolve/main/sd_xl_base_1.0.safetensors -P ./models/checkpoints/\n",
        "!wget -c https://huggingface.co/SG161222/RealVisXL_V5.0_Lightning/resolve/main/RealVisXL_V5.0_Lightning_fp16.safetensors -P ./models/checkpoints/\n",
        "!wget -c \"https://civitai.com/api/download/models/456538?type=Model&format=SafeTensor&size=pruned&fp=fp16\" -O ./models/checkpoints/Juggernaut-XL-inpainting.safetensors\n",
        "\n",
        "## SD1.5\n",
        "!wget -c https://huggingface.co/runwayml/stable-diffusion-v1-5/resolve/main/v1-5-pruned-emaonly.ckpt -P ./models/checkpoints/\n",
        "\n",
        "# Inpainting\n",
        "!wget -c https://github.com/Sanster/models/releases/download/add_big_lama/big-lama.pt -P ./models/inpaint/\n",
        "\n",
        "# Loras\n",
        "#!wget -c https://civitai.com/api/download/models/10350 -O ./models/loras/theovercomer8sContrastFix_sd21768.safetensors #theovercomer8sContrastFix SD2.x 768-v\n",
        "#!wget -c https://civitai.com/api/download/models/10638 -O ./models/loras/theovercomer8sContrastFix_sd15.safetensors #theovercomer8sContrastFix SD1.x\n",
        "#!wget -c https://huggingface.co/stabilityai/stable-diffusion-xl-base-1.0/resolve/main/sd_xl_offset_example-lora_1.0.safetensors -P ./models/loras/ #SDXL offset noise lora\n",
        "\n",
        "# ControlNet SDXL\n",
        "!wget -c https://huggingface.co/xinsir/controlnet-union-sdxl-1.0/resolve/main/diffusion_pytorch_model_promax.safetensors -O ./models/controlnet/controlnet-union-sdxl-1.0-promax.safetensors\n",
        "!wget -c https://huggingface.co/2vXpSwA7/iroiro-lora/resolve/main/test_controlnet2/CN-anytest_v4-marged.safetensors -P ./models/controlnet/"
      ]
    },
    {
      "cell_type": "markdown",
      "metadata": {
        "id": "96ZcZ5qJMOdI"
      },
      "source": [
        "### 素材のダウンロード"
      ]
    },
    {
      "cell_type": "code",
      "execution_count": null,
      "metadata": {
        "id": "3iTGS_5YMSAo"
      },
      "outputs": [],
      "source": [
        "# Download images\n",
        "!wget -c https://github.com/aicuai/coloso/blob/main/Coloso3/images/anime_boy_01.jpeg?raw=true -O ./input/anime_boy_01.jpeg\n",
        "!wget -c https://github.com/aicuai/coloso/blob/main/Coloso3/images/clothes_01.jpeg?raw=true -O ./input/clothes_01.jpeg\n",
        "!wget -c https://github.com/aicuai/coloso/blob/main/Coloso3/images/dolphin_01.jpeg?raw=true -O ./input/dolphin_01.jpeg\n",
        "!wget -c https://github.com/aicuai/coloso/blob/main/Coloso3/images/interior_01.jpeg?raw=true -O ./input/interior_01.jpeg\n",
        "!wget -c https://github.com/aicuai/coloso/blob/main/Coloso3/images/lion_01.jpeg?raw=true -O ./input/lion_01.jpeg\n",
        "!wget -c https://github.com/aicuai/coloso/blob/main/Coloso3/images/real_boy_01.png?raw=true -O ./input/real_boy_01.png\n",
        "!wget -c https://github.com/aicuai/coloso/blob/main/Coloso3/images/real_girl_01.png?raw=true -O ./input/real_girl_01.png\n",
        "!wget -c https://github.com/aicuai/coloso/blob/main/Coloso3/images/real_girl_02.png?raw=true -O ./input/real_girl_02.png\n",
        "!wget -c https://github.com/aicuai/coloso/blob/main/Coloso3/images/real_girl_03.png?raw=true -O ./input/real_girl_03.png\n",
        "!wget -c https://github.com/aicuai/coloso/blob/main/Coloso3/images/shoes_01.png?raw=true -O ./input/shoes_01.png"
      ]
    },
    {
      "cell_type": "markdown",
      "metadata": {
        "id": "yvtg83RTgAkn"
      },
      "source": [
        "### ワークフローのダウンロード"
      ]
    },
    {
      "cell_type": "code",
      "execution_count": null,
      "metadata": {
        "id": "Xzfrjq9IgEyO"
      },
      "outputs": [],
      "source": [
        "# Download workflows\n",
        "!wget -c https://raw.githubusercontent.com/aicuai/coloso/refs/heads/main/Coloso3/workflows/coloso3_08_assignment3.json -P ./user/default/workflows/\n",
        "!wget -c https://raw.githubusercontent.com/aicuai/coloso/refs/heads/main/Coloso3/workflows/coloso3_08_combine.json -P ./user/default/workflows/\n",
        "!wget -c https://raw.githubusercontent.com/aicuai/coloso/refs/heads/main/Coloso3/workflows/coloso3_08_concat.json -P ./user/default/workflows/\n",
        "!wget -c https://raw.githubusercontent.com/aicuai/coloso/refs/heads/main/Coloso3/workflows/coloso3_08_prompt_emphasis.json -P ./user/default/workflows/\n",
        "!wget -c https://raw.githubusercontent.com/aicuai/coloso/refs/heads/main/Coloso3/workflows/coloso3_10_inpainting.json -P ./user/default/workflows/\n",
        "!wget -c https://raw.githubusercontent.com/aicuai/coloso/refs/heads/main/Coloso3/workflows/coloso3_10_outpainting.json -P ./user/default/workflows/\n",
        "!wget -c https://raw.githubusercontent.com/aicuai/coloso/refs/heads/main/Coloso3/workflows/coloso3_11_remove_objects_by_inpainting.json -P ./user/default/workflows/\n",
        "!wget -c https://raw.githubusercontent.com/aicuai/coloso/refs/heads/main/Coloso3/workflows/coloso3_13_illustration-to-real.json -P ./user/default/workflows/\n",
        "!wget -c https://raw.githubusercontent.com/aicuai/coloso/refs/heads/main/Coloso3/workflows/coloso3_13_style-transformation.json -P ./user/default/workflows/\n",
        "!wget -c https://raw.githubusercontent.com/aicuai/coloso/refs/heads/main/Coloso3/workflows/coloso3_13_tile-upscale.json -P ./user/default/workflows/"
      ]
    },
    {
      "cell_type": "markdown",
      "metadata": {
        "id": "kkkkkkkkkkkkkkk"
      },
      "source": [
        "### ComfyUIの起動\n",
        "\n"
      ]
    },
    {
      "cell_type": "code",
      "execution_count": null,
      "metadata": {
        "id": "jjjjjjjjjjjjjj"
      },
      "outputs": [],
      "source": [
        "!wget https://github.com/cloudflare/cloudflared/releases/latest/download/cloudflared-linux-amd64.deb\n",
        "!dpkg -i cloudflared-linux-amd64.deb\n",
        "\n",
        "import subprocess\n",
        "import threading\n",
        "import time\n",
        "import socket\n",
        "import urllib.request\n",
        "\n",
        "def iframe_thread(port):\n",
        "  while True:\n",
        "      time.sleep(0.5)\n",
        "      sock = socket.socket(socket.AF_INET, socket.SOCK_STREAM)\n",
        "      result = sock.connect_ex(('127.0.0.1', port))\n",
        "      if result == 0:\n",
        "        break\n",
        "      sock.close()\n",
        "  print(\"\\nComfyUI finished loading, trying to launch cloudflared (if it gets stuck here cloudflared is having issues)\\n\")\n",
        "\n",
        "  p = subprocess.Popen([\"cloudflared\", \"tunnel\", \"--url\", \"http://127.0.0.1:{}\".format(port)], stdout=subprocess.PIPE, stderr=subprocess.PIPE)\n",
        "  for line in p.stderr:\n",
        "    l = line.decode()\n",
        "    if \"trycloudflare.com \" in l:\n",
        "      print(\"This is the URL to access ComfyUI:\", l[l.find(\"http\"):], end='')\n",
        "    #print(l, end='')\n",
        "\n",
        "\n",
        "threading.Thread(target=iframe_thread, daemon=True, args=(8188,)).start()\n",
        "\n",
        "!python main.py --dont-print-server"
      ]
    }
  ],
  "metadata": {
    "accelerator": "GPU",
    "colab": {
      "gpuType": "T4",
      "provenance": []
    },
    "kernelspec": {
      "display_name": "Python 3",
      "name": "python3"
    },
    "language_info": {
      "name": "python"
    }
  },
  "nbformat": 4,
  "nbformat_minor": 0
}
