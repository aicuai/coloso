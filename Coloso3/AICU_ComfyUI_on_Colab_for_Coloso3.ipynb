{
 "cells": [
  {
   "cell_type": "markdown",
   "metadata": {
    "id": "view-in-github"
   },
   "source": [
    "<a href=\"https://colab.research.google.com/github/aicuai/coloso/blob/main/Coloso3/AICU_ComfyUI_on_Colab_for_Coloso3.ipynb\" target=\"_parent\"><img src=\"https://colab.research.google.com/assets/colab-badge.svg\" alt=\"Open In Colab\"/></a>"
   ]
  },
  {
   "cell_type": "markdown",
   "metadata": {
    "id": "aaaaaaaaaa"
   },
   "source": [
    "# ComfyUIのインストール https://j.aicu.ai/c3comfy\n",
    "\n",
    "この Google Colab向け notebook は ComfyUIを初心者向けに簡単に起動できるように解説・設定しています。\n",
    "\n",
    "原作は [ComfyUI-Manager](https://github.com/ltdrdata/ComfyUI-Manager) による [こちら](https://github.com/ltdrdata/ComfyUI-Manager/blob/main/notebooks/comfyui_colab_with_manager.ipynb)\n",
    "\n",
    "\n",
    "※ 本ファイルは、[Coloso](https://coloso.jp/)で公開している講座[「ComfyUIマスター：カスタムノードとアプリ開発」](https://coloso.jp/products/generativeai-aicu3-jp)のためのファイルになります。\n"
   ]
  },
  {
   "cell_type": "code",
   "execution_count": null,
   "metadata": {
    "id": "bbbbbbbbbb"
   },
   "outputs": [],
   "source": [
    "# #@title Environment Setup\n",
    "\n",
    "from pathlib import Path\n",
    "\n",
    "OPTIONS = {}\n",
    "\n",
    "USE_GOOGLE_DRIVE = True  #@param {type:\"boolean\"}\n",
    "UPDATE_COMFY_UI = True  #@param {type:\"boolean\"}\n",
    "USE_COMFYUI_MANAGER = True  #@param {type:\"boolean\"}\n",
    "USE_CUSTOM_NODES_FOR_COLOSO = True #@param {type:\"boolean\"}\n",
    "INSTALL_CUSTOM_NODES_DEPENDENCIES = True  #@param {type:\"boolean\"}\n",
    "OPTIONS['USE_GOOGLE_DRIVE'] = USE_GOOGLE_DRIVE\n",
    "OPTIONS['UPDATE_COMFY_UI'] = UPDATE_COMFY_UI\n",
    "OPTIONS['USE_COMFYUI_MANAGER'] = USE_COMFYUI_MANAGER\n",
    "OPTIONS['USE_CUSTOM_NODES_FOR_COLOSO'] = USE_CUSTOM_NODES_FOR_COLOSO\n",
    "OPTIONS['INSTALL_CUSTOM_NODES_DEPENDENCIES'] = INSTALL_CUSTOM_NODES_DEPENDENCIES\n",
    "\n",
    "current_dir = !pwd\n",
    "WORKSPACE = f\"{current_dir[0]}/ComfyUI\"\n",
    "\n",
    "if OPTIONS['USE_GOOGLE_DRIVE']:\n",
    "    !echo \"Mounting Google Drive...\"\n",
    "    %cd /\n",
    "\n",
    "    from google.colab import drive\n",
    "    drive.mount('/content/drive')\n",
    "\n",
    "    WORKSPACE = \"/content/drive/MyDrive/ComfyUI\"\n",
    "    %cd /content/drive/MyDrive\n",
    "\n",
    "![ ! -d $WORKSPACE ] && echo -= Initial setup ComfyUI =- && git clone https://github.com/comfyanonymous/ComfyUI\n",
    "%cd $WORKSPACE\n",
    "\n",
    "# #7025 The frontend will no longer be shipped in the main ComfyUI repo\n",
    "# https://github.com/comfyanonymous/ComfyUI/issues/7025\n",
    "!pip install -r requirements.txt\n",
    "\n",
    "if OPTIONS['UPDATE_COMFY_UI']:\n",
    "  !echo -= Updating ComfyUI =-\n",
    "\n",
    "  # Correction of the issue of permissions being deleted on Google Drive.\n",
    "  ![ -f \".ci/nightly/update_windows/update_comfyui_and_python_dependencies.bat\" ] && chmod 755 .ci/nightly/update_windows/update_comfyui_and_python_dependencies.bat\n",
    "  ![ -f \".ci/nightly/windows_base_files/run_nvidia_gpu.bat\" ] && chmod 755 .ci/nightly/windows_base_files/run_nvidia_gpu.bat\n",
    "  ![ -f \".ci/update_windows/update_comfyui_and_python_dependencies.bat\" ] && chmod 755 .ci/update_windows/update_comfyui_and_python_dependencies.bat\n",
    "  ![ -f \".ci/update_windows_cu118/update_comfyui_and_python_dependencies.bat\" ] && chmod 755 .ci/update_windows_cu118/update_comfyui_and_python_dependencies.bat\n",
    "  ![ -f \".ci/update_windows/update.py\" ] && chmod 755 .ci/update_windows/update.py\n",
    "  ![ -f \".ci/update_windows/update_comfyui.bat\" ] && chmod 755 .ci/update_windows/update_comfyui.bat\n",
    "  ![ -f \".ci/update_windows/README_VERY_IMPORTANT.txt\" ] && chmod 755 .ci/update_windows/README_VERY_IMPORTANT.txt\n",
    "  ![ -f \".ci/update_windows/run_cpu.bat\" ] && chmod 755 .ci/update_windows/run_cpu.bat\n",
    "  ![ -f \".ci/update_windows/run_nvidia_gpu.bat\" ] && chmod 755 .ci/update_windows/run_nvidia_gpu.bat\n",
    "\n",
    "  !git pull\n",
    "\n",
    "!echo -= Install dependencies =-\n",
    "!pip3 install accelerate\n",
    "!pip3 install einops transformers>=4.25.1 safetensors>=0.3.0 aiohttp pyyaml Pillow scipy tqdm psutil\n",
    "!pip3 install torch torchvision torchaudio --index-url https://download.pytorch.org/whl/cu121\n",
    "!pip3 install torchsde\n",
    "!pip3 install kornia>=0.7.1 spandrel\n",
    "\n",
    "if OPTIONS['USE_COMFYUI_MANAGER']:\n",
    "  %cd custom_nodes\n",
    "\n",
    "  # Correction of the issue of permissions being deleted on Google Drive.\n",
    "  ![ -f \"ComfyUI-Manager/check.sh\" ] && chmod 755 ComfyUI-Manager/check.sh\n",
    "  ![ -f \"ComfyUI-Manager/scan.sh\" ] && chmod 755 ComfyUI-Manager/scan.sh\n",
    "  ![ -f \"ComfyUI-Manager/node_db/dev/scan.sh\" ] && chmod 755 ComfyUI-Manager/node_db/dev/scan.sh\n",
    "  ![ -f \"ComfyUI-Manager/scripts/install-comfyui-venv-linux.sh\" ] && chmod 755 ComfyUI-Manager/scripts/install-comfyui-venv-linux.sh\n",
    "  ![ -f \"ComfyUI-Manager/scripts/install-comfyui-venv-win.bat\" ] && chmod 755 ComfyUI-Manager/scripts/install-comfyui-venv-win.bat\n",
    "\n",
    "  ![ ! -d ComfyUI-Manager ] && echo -= Initial setup ComfyUI-Manager =- && git clone https://github.com/ltdrdata/ComfyUI-Manager\n",
    "  %cd ComfyUI-Manager\n",
    "  !git pull\n",
    "\n",
    "  %cd $WORKSPACE\n",
    "\n",
    "if OPTIONS['USE_CUSTOM_NODES_FOR_COLOSO']:\n",
    "  %cd $WORKSPACE/custom_nodes\n",
    "\n",
    "  ## Remove existing custom nodes\n",
    "  !rm -rf comfyui_controlnet_aux\n",
    "  !rm -rf comfyui-inpaint-nodes\n",
    "  !rm -rf ComfyUI-KJNodes\n",
    "  !rm -rf ComfyUI-Florence2\n",
    "  !rm -rf ComfyUI-segment-anything-2\n",
    "  !rm -rf comfyui-tensorops\n",
    "  !rm -rf ComfyUI_IPAdapter_plus\n",
    "  !rm -rf ComfyUI-Fal-API-Flux\n",
    "  !rm -rf ComfyUI-AnimateDiff-Evolved\n",
    "  !rm -rf ComfyUI-Frame-Interpolation\n",
    "  !rm -rf ComfyUI-VideoHelperSuite\n",
    "  !rm -rf ComfyUI-Advanced-ControlNet\n",
    "\n",
    "  ## For ControlNet\n",
    "  !git clone https://github.com/Fannovel16/comfyui_controlnet_aux.git\n",
    "\n",
    "  ## For Inpainting\n",
    "  !git clone https://github.com/Acly/comfyui-inpaint-nodes.git\n",
    "\n",
    "  ## For Segmentation\n",
    "  !git clone https://github.com/kijai/ComfyUI-KJNodes.git\n",
    "  !git clone https://github.com/kijai/ComfyUI-Florence2.git\n",
    "  !git clone https://github.com/kijai/ComfyUI-segment-anything-2.git\n",
    "  !git clone https://github.com/un-seen/comfyui-tensorops.git\n",
    "\n",
    "  ## For IP-Adapter\n",
    "  !git clone https://github.com/cubiq/ComfyUI_IPAdapter_plus.git\n",
    "\n",
    "  ## For FLUX API\n",
    "  !git clone https://github.com/yhayano-ponotech/ComfyUI-Fal-API-Flux.git\n",
    "\n",
    "  ## For AnimateDiff\n",
    "  !git clone https://github.com/Kosinkadink/ComfyUI-AnimateDiff-Evolved.git\n",
    "  !git clone https://github.com/Fannovel16/ComfyUI-Frame-Interpolation.git\n",
    "  !git clone https://github.com/Kosinkadink/ComfyUI-VideoHelperSuite.git\n",
    "  !git clone https://github.com/Kosinkadink/ComfyUI-Advanced-ControlNet.git\n",
    "\n",
    "  ## Tile Diffusion\n",
    "  !git clone https://github.com/shiimizu/ComfyUI-TiledDiffusion.git\n",
    "\n",
    "  %cd $WORKSPACE\n",
    "\n",
    "%cd $WORKSPACE\n",
    "\n",
    "if OPTIONS['INSTALL_CUSTOM_NODES_DEPENDENCIES']:\n",
    "  !echo -= Install custom nodes dependencies =-\n",
    "  !pip install GitPython\n",
    "  !python custom_nodes/ComfyUI-Manager/cm-cli.py restore-dependencies\n"
   ]
  },
  {
   "cell_type": "markdown",
   "metadata": {
    "id": "cccccccccc"
   },
   "source": [
    "### 各種モデルのダウンロード"
   ]
  },
  {
   "cell_type": "code",
   "execution_count": null,
   "metadata": {
    "id": "dddddddddd"
   },
   "outputs": [],
   "source": [
    "# Checkpoints\n",
    "\n",
    "## SDXL\n",
    "!wget -c https://huggingface.co/stabilityai/stable-diffusion-xl-base-1.0/resolve/main/sd_xl_base_1.0.safetensors -P ./models/checkpoints/\n",
    "!wget -c https://huggingface.co/SG161222/RealVisXL_V5.0_Lightning/resolve/main/RealVisXL_V5.0_Lightning_fp16.safetensors -P ./models/checkpoints/\n",
    "!wget -c \"https://civitai.com/api/download/models/456538?type=Model&format=SafeTensor&size=pruned&fp=fp16\" -O ./models/checkpoints/Juggernaut-XL-inpainting.safetensors\n",
    "\n",
    "## SD1.5\n",
    "!wget -c https://huggingface.co/runwayml/stable-diffusion-v1-5/resolve/main/v1-5-pruned-emaonly.ckpt -P ./models/checkpoints/\n",
    "!wget -c \"https://civitai.com/api/download/models/177164?type=Model&format=SafeTensor&size=pruned&fp=fp16\" -O ./models/checkpoints/BRA.safetensors\n",
    "\n",
    "# FLUX\n",
    "!wget -c https://huggingface.co/Comfy-Org/flux1-dev/resolve/main/flux1-dev-fp8.safetensors -P ./models/checkpoints/\n",
    "\n",
    "# Inpainting\n",
    "!wget -c https://github.com/Sanster/models/releases/download/add_big_lama/big-lama.pt -P ./models/inpaint/\n",
    "\n",
    "# Loras\n",
    "!wget -c \"https://civitai.com/api/download/models/348189?type=Model&format=SafeTensor\" -O ./models/loras/glowneon_xl_v1.safetensors \n",
    "!wget -c \"https://civitai.com/api/download/models/277389?type=Model&format=SafeTensor\" -O ./models/loras/ral-dissolve-sdxl.safetensors\n",
    "!wget -c \"https://civitai.com/api/download/models/275849?type=Model&format=SafeTensor\" -O ./models/loras/Dark_Futuristic_Circuit_Board.safetensors\n",
    "!wget -c https://huggingface.co/ostris/watercolor_style_lora_sdxl/resolve/main/watercolor_v1_sdxl.safetensors -P ./models/loras/\n",
    "\n",
    "# ControlNet SDXL\n",
    "!wget -c https://huggingface.co/xinsir/controlnet-union-sdxl-1.0/resolve/main/diffusion_pytorch_model_promax.safetensors -O ./models/controlnet/controlnet-union-sdxl-1.0-promax.safetensors\n",
    "!wget -c https://huggingface.co/2vXpSwA7/iroiro-lora/resolve/main/test_controlnet2/CN-anytest_v4-marged.safetensors -P ./models/controlnet/\n",
    "\n",
    "# CLIP Vision\n",
    "!wget -c https://huggingface.co/h94/IP-Adapter/resolve/main/models/image_encoder/model.safetensors -O ./models/clip_vision/CLIP-ViT-H-14-laion2B-s32B-b79K.safetensors\n",
    "!wget -c https://huggingface.co/h94/IP-Adapter/resolve/main/sdxl_models/image_encoder/model.safetensors -O ./models/clip_vision/CLIP-ViT-bigG-14-laion2B-39B-b160k.safetensors\n",
    "\n",
    "# IP-Adapter\n",
    "!wget -c https://huggingface.co/h94/IP-Adapter/resolve/main/sdxl_models/ip-adapter-plus_sdxl_vit-h.safetensors -P ./models/ipadapter\n",
    "\n",
    "# AnimateDiff\n",
    "!wget -c https://huggingface.co/hotshotco/Hotshot-XL/resolve/main/hsxl_temporal_layers.f16.safetensors -P ./models/animatediff_models"
   ]
  },
  {
   "cell_type": "markdown",
   "metadata": {
    "id": "96ZcZ5qJMOdI"
   },
   "source": [
    "### 素材のダウンロード"
   ]
  },
  {
   "cell_type": "code",
   "execution_count": null,
   "metadata": {
    "id": "3iTGS_5YMSAo"
   },
   "outputs": [],
   "source": [
    "# Download images\n",
    "!wget -c https://github.com/aicuai/coloso/blob/main/Coloso3/images/anime_boy_01.jpeg?raw=true -O ./input/anime_boy_01.jpeg\n",
    "!wget -c https://github.com/aicuai/coloso/blob/main/Coloso3/images/clothes_01.jpeg?raw=true -O ./input/clothes_01.jpeg\n",
    "!wget -c https://github.com/aicuai/coloso/blob/main/Coloso3/images/dolphin_01.jpeg?raw=true -O ./input/dolphin_01.jpeg\n",
    "!wget -c https://github.com/aicuai/coloso/blob/main/Coloso3/images/interior_01.jpeg?raw=true -O ./input/interior_01.jpeg\n",
    "!wget -c https://github.com/aicuai/coloso/blob/main/Coloso3/images/lion_01.jpeg?raw=true -O ./input/lion_01.jpeg\n",
    "!wget -c https://github.com/aicuai/coloso/blob/main/Coloso3/images/real_boy_01.png?raw=true -O ./input/real_boy_01.png\n",
    "!wget -c https://github.com/aicuai/coloso/blob/main/Coloso3/images/real_girl_01.png?raw=true -O ./input/real_girl_01.png\n",
    "!wget -c https://github.com/aicuai/coloso/blob/main/Coloso3/images/real_girl_02.png?raw=true -O ./input/real_girl_02.png\n",
    "!wget -c https://github.com/aicuai/coloso/blob/main/Coloso3/images/real_girl_03.png?raw=true -O ./input/real_girl_03.png\n",
    "!wget -c https://github.com/aicuai/coloso/blob/main/Coloso3/images/real_girl_04.png?raw=true -O ./input/real_girl_04.png\n",
    "!wget -c https://github.com/aicuai/coloso/blob/main/Coloso3/images/real_girl_05.jpg?raw=true -O ./input/real_girl_05.jpg\n",
    "!wget -c https://github.com/aicuai/coloso/blob/main/Coloso3/images/real_girl_06.jpg?raw=true -O ./input/real_girl_06.jpg\n",
    "!wget -c https://github.com/aicuai/coloso/blob/main/Coloso3/images/real_girl_07.png?raw=true -O ./input/real_girl_07.png\n",
    "!wget -c https://github.com/aicuai/coloso/blob/main/Coloso3/images/shoes_01.png?raw=true -O ./input/shoes_01.png\n",
    "!wget -c https://github.com/aicuai/coloso/blob/main/Coloso3/images/butterfly_01.jpg?raw=true -O ./input/butterfly_01.jpg\n",
    "!wget -c https://github.com/aicuai/coloso/blob/main/Coloso3/images/dog_01.png?raw=true -O ./input/dog_01.png\n",
    "!wget -c https://github.com/aicuai/coloso/blob/main/Coloso3/images/fighter_01.png?raw=true -O ./input/fighter_01.png\n",
    "!wget -c https://github.com/aicuai/coloso/blob/main/Coloso3/images/campfire.jpg?raw=true -O ./input/campfire.png\n",
    "!wget -c https://github.com/aicuai/coloso/blob/main/Coloso3/images/designer_man_01.jpeg?raw=true -O ./input/designer_man_01.jpeg"
   ]
  },
  {
   "cell_type": "markdown",
   "metadata": {
    "id": "yvtg83RTgAkn"
   },
   "source": [
    "### ワークフローのダウンロード"
   ]
  },
  {
   "cell_type": "code",
   "execution_count": null,
   "metadata": {
    "id": "Xzfrjq9IgEyO"
   },
   "outputs": [],
   "source": [
    "# Download workflows\n",
    "!wget -c https://raw.githubusercontent.com/aicuai/coloso/refs/heads/main/Coloso3/workflows/coloso3_08_assignment3.json -P ./user/default/workflows/\n",
    "!wget -c https://raw.githubusercontent.com/aicuai/coloso/refs/heads/main/Coloso3/workflows/coloso3_08_combine.json -P ./user/default/workflows/\n",
    "!wget -c https://raw.githubusercontent.com/aicuai/coloso/refs/heads/main/Coloso3/workflows/coloso3_08_concat.json -P ./user/default/workflows/\n",
    "!wget -c https://raw.githubusercontent.com/aicuai/coloso/refs/heads/main/Coloso3/workflows/coloso3_08_prompt_emphasis.json -P ./user/default/workflows/\n",
    "!wget -c https://raw.githubusercontent.com/aicuai/coloso/refs/heads/main/Coloso3/workflows/coloso3_10_inpainting.json -P ./user/default/workflows/\n",
    "!wget -c https://raw.githubusercontent.com/aicuai/coloso/refs/heads/main/Coloso3/workflows/coloso3_10_outpainting.json -P ./user/default/workflows/\n",
    "!wget -c https://raw.githubusercontent.com/aicuai/coloso/refs/heads/main/Coloso3/workflows/coloso3_10_assignment4.json -P ./user/default/workflows/\n",
    "!wget -c https://raw.githubusercontent.com/aicuai/coloso/refs/heads/main/Coloso3/workflows/coloso3_11_remove_objects_by_inpainting.json -P ./user/default/workflows/\n",
    "!wget -c https://raw.githubusercontent.com/aicuai/coloso/refs/heads/main/Coloso3/workflows/coloso3_12_assignment6.json -P ./user/default/workflows/\n",
    "!wget -c https://raw.githubusercontent.com/aicuai/coloso/refs/heads/main/Coloso3/workflows/coloso3_13_illustration-to-real.json -P ./user/default/workflows/\n",
    "!wget -c https://raw.githubusercontent.com/aicuai/coloso/refs/heads/main/Coloso3/workflows/coloso3_13_style-transformation.json -P ./user/default/workflows/\n",
    "!wget -c https://raw.githubusercontent.com/aicuai/coloso/refs/heads/main/Coloso3/workflows/coloso3_13_tile-upscale.json -P ./user/default/workflows/\n",
    "!wget -c https://raw.githubusercontent.com/aicuai/coloso/refs/heads/main/Coloso3/workflows/coloso3_13_assignment7.json -P ./user/default/workflows/\n",
    "!wget -c https://raw.githubusercontent.com/aicuai/coloso/refs/heads/main/Coloso3/workflows/coloso3_14_ipadapter_change_girl_style.json -P ./user/default/workflows/\n",
    "!wget -c https://raw.githubusercontent.com/aicuai/coloso/refs/heads/main/Coloso3/workflows/coloso3_14_ipadapter_inpaint_clothes.json -P ./user/default/workflows/\n",
    "!wget -c https://raw.githubusercontent.com/aicuai/coloso/refs/heads/main/Coloso3/workflows/coloso3_14_ipadapter_shoes_style_transfer.json -P ./user/default/workflows/\n",
    "!wget -c https://raw.githubusercontent.com/aicuai/coloso/refs/heads/main/Coloso3/workflows/coloso3_14_assignment8.json -P ./user/default/workflows/\n",
    "!wget -c https://raw.githubusercontent.com/aicuai/coloso/refs/heads/main/Coloso3/workflows/coloso3_17_flux_dev_basic.json -P ./user/default/workflows/\n",
    "!wget -c https://raw.githubusercontent.com/aicuai/coloso/refs/heads/main/Coloso3/workflows/coloso3_20_animatediff_v2v_lora.json -P ./user/default/workflows/\n",
    "!wget -c https://raw.githubusercontent.com/aicuai/coloso/refs/heads/main/Coloso3/workflows/coloso3_20_animatediff_t2v.json -P ./user/default/workflows/\n",
    "!wget -c https://raw.githubusercontent.com/aicuai/coloso/refs/heads/main/Coloso3/workflows/coloso3_20_animatediff_i2v.json -P ./user/default/workflows/\n",
    "!wget -c https://raw.githubusercontent.com/aicuai/coloso/refs/heads/main/Coloso3/workflows/coloso3_20_animatediff_create_background.json -P ./user/default/workflows/"
   ]
  },
  {
   "cell_type": "markdown",
   "metadata": {
    "id": "kkkkkkkkkkkkkkk"
   },
   "source": [
    "### ComfyUIの起動\n",
    "\n"
   ]
  },
  {
   "cell_type": "code",
   "execution_count": null,
   "metadata": {
    "id": "jjjjjjjjjjjjjj"
   },
   "outputs": [],
   "source": [
    "!wget https://github.com/cloudflare/cloudflared/releases/latest/download/cloudflared-linux-amd64.deb\n",
    "!dpkg -i cloudflared-linux-amd64.deb\n",
    "\n",
    "import subprocess\n",
    "import threading\n",
    "import time\n",
    "import socket\n",
    "import urllib.request\n",
    "\n",
    "def iframe_thread(port):\n",
    "  while True:\n",
    "      time.sleep(0.5)\n",
    "      sock = socket.socket(socket.AF_INET, socket.SOCK_STREAM)\n",
    "      result = sock.connect_ex(('127.0.0.1', port))\n",
    "      if result == 0:\n",
    "        break\n",
    "      sock.close()\n",
    "  print(\"\\nComfyUI finished loading, trying to launch cloudflared (if it gets stuck here cloudflared is having issues)\\n\")\n",
    "\n",
    "  p = subprocess.Popen([\"cloudflared\", \"tunnel\", \"--url\", \"http://127.0.0.1:{}\".format(port)], stdout=subprocess.PIPE, stderr=subprocess.PIPE)\n",
    "  for line in p.stderr:\n",
    "    l = line.decode()\n",
    "    if \"trycloudflare.com \" in l:\n",
    "      print(\"This is the URL to access ComfyUI:\", l[l.find(\"http\"):], end='')\n",
    "    #print(l, end='')\n",
    "\n",
    "\n",
    "threading.Thread(target=iframe_thread, daemon=True, args=(8188,)).start()\n",
    "\n",
    "!python main.py --dont-print-server"
   ]
  }
 ],
 "metadata": {
  "accelerator": "GPU",
  "colab": {
   "gpuType": "T4",
   "provenance": []
  },
  "kernelspec": {
   "display_name": "Python 3",
   "name": "python3"
  },
  "language_info": {
   "name": "python"
  }
 },
 "nbformat": 4,
 "nbformat_minor": 0
}
